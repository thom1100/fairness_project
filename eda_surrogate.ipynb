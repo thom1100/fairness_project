{
 "cells": [
  {
   "cell_type": "code",
   "execution_count": 1,
   "metadata": {},
   "outputs": [],
   "source": [
    "import pandas as pd\n",
    "import numpy as np\n",
    "import matplotlib.pyplot as plt\n",
    "\n",
    "from sklearn.model_selection import train_test_split\n",
    "from sklearn.tree import DecisionTreeRegressor\n",
    "from sklearn.metrics import r2_score, roc_auc_score\n",
    "from sklearn.tree import export_text, plot_tree\n",
    "from sklearn.model_selection import train_test_split, StratifiedKFold, cross_validate\n",
    "from sklearn.compose import ColumnTransformer\n",
    "from sklearn.pipeline import Pipeline\n",
    "from sklearn.preprocessing import OneHotEncoder, StandardScaler\n",
    "from sklearn.metrics import (\n",
    "    roc_auc_score,\n",
    "    average_precision_score,\n",
    "    brier_score_loss,\n",
    "    log_loss,\n",
    ")\n",
    "import xgboost as xgb"
   ]
  },
  {
   "cell_type": "markdown",
   "metadata": {},
   "source": [
    "# 00.EDA"
   ]
  },
  {
   "cell_type": "code",
   "execution_count": 2,
   "metadata": {},
   "outputs": [
    {
     "name": "stdout",
     "output_type": "stream",
     "text": [
      "<class 'pandas.core.frame.DataFrame'>\n",
      "RangeIndex: 1086236 entries, 0 to 1086235\n",
      "Data columns (total 38 columns):\n",
      " #   Column                   Non-Null Count    Dtype  \n",
      "---  ------                   --------------    -----  \n",
      " 0   issue_d                  1086236 non-null  int64  \n",
      " 1   loan duration            1086236 non-null  int64  \n",
      " 2   annual_inc               1086236 non-null  float64\n",
      " 3   avg_cur_bal              1086236 non-null  float64\n",
      " 4   bc_open_to_buy           1086236 non-null  float64\n",
      " 5   bc_util                  1086236 non-null  float64\n",
      " 6   delinq_2yrs              1086236 non-null  float64\n",
      " 7   dti                      1086236 non-null  float64\n",
      " 8   emp_length               1086236 non-null  object \n",
      " 9   emp_title                1086236 non-null  object \n",
      " 10  fico_range_high          1086236 non-null  float64\n",
      " 11  funded_amnt              1086236 non-null  float64\n",
      " 12  grade                    1086236 non-null  object \n",
      " 13  home_ownership           1086236 non-null  object \n",
      " 14  inq_last_6mths           1086236 non-null  float64\n",
      " 15  int_rate                 1086236 non-null  float64\n",
      " 16  mo_sin_old_rev_tl_op     1086236 non-null  float64\n",
      " 17  mo_sin_rcnt_rev_tl_op    1086236 non-null  float64\n",
      " 18  mo_sin_rcnt_tl           1086236 non-null  float64\n",
      " 19  mort_acc                 1086236 non-null  float64\n",
      " 20  mths_since_recent_bc     1086236 non-null  float64\n",
      " 21  num_actv_bc_tl           1086236 non-null  float64\n",
      " 22  num_bc_tl                1086236 non-null  float64\n",
      " 23  num_il_tl                1086236 non-null  float64\n",
      " 24  num_rev_accts            1086236 non-null  float64\n",
      " 25  open_acc                 1086236 non-null  float64\n",
      " 26  pub_rec                  1086236 non-null  float64\n",
      " 27  pub_rec_bankruptcies     1086236 non-null  float64\n",
      " 28  purpose                  1086236 non-null  object \n",
      " 29  revol_bal                1086236 non-null  float64\n",
      " 30  revol_util               1086236 non-null  float64\n",
      " 31  sub_grade                1086236 non-null  object \n",
      " 32  target                   1086236 non-null  int64  \n",
      " 33  tax_liens                1086236 non-null  float64\n",
      " 34  zip_code                 1086236 non-null  int64  \n",
      " 35  Pct_afro_american        1086236 non-null  float64\n",
      " 36  Predictions              1086236 non-null  int64  \n",
      " 37  Predicted probabilities  1086236 non-null  float64\n",
      "dtypes: float64(27), int64(5), object(6)\n",
      "memory usage: 314.9+ MB\n"
     ]
    }
   ],
   "source": [
    "PATH = \"./dataproject2025.csv\"\n",
    "df = pd.read_csv(PATH).drop(columns=[\"Unnamed: 0\"])\n",
    "df.info()"
   ]
  },
  {
   "cell_type": "markdown",
   "metadata": {},
   "source": [
    "Certaines variables sont ordinales, on les retraite dans une fonction définie dans utils.py."
   ]
  },
  {
   "cell_type": "code",
   "execution_count": 3,
   "metadata": {},
   "outputs": [
    {
     "data": {
      "application/vnd.microsoft.datawrangler.viewer.v0+json": {
       "columns": [
        {
         "name": "index",
         "rawType": "int64",
         "type": "integer"
        },
        {
         "name": "issue_d",
         "rawType": "int64",
         "type": "integer"
        },
        {
         "name": "loan duration",
         "rawType": "int64",
         "type": "integer"
        },
        {
         "name": "annual_inc",
         "rawType": "float64",
         "type": "float"
        },
        {
         "name": "avg_cur_bal",
         "rawType": "float64",
         "type": "float"
        },
        {
         "name": "bc_open_to_buy",
         "rawType": "float64",
         "type": "float"
        },
        {
         "name": "bc_util",
         "rawType": "float64",
         "type": "float"
        },
        {
         "name": "delinq_2yrs",
         "rawType": "float64",
         "type": "float"
        },
        {
         "name": "dti",
         "rawType": "float64",
         "type": "float"
        },
        {
         "name": "emp_length",
         "rawType": "object",
         "type": "string"
        },
        {
         "name": "emp_title",
         "rawType": "object",
         "type": "string"
        },
        {
         "name": "fico_range_high",
         "rawType": "float64",
         "type": "float"
        },
        {
         "name": "funded_amnt",
         "rawType": "float64",
         "type": "float"
        },
        {
         "name": "grade",
         "rawType": "object",
         "type": "string"
        },
        {
         "name": "home_ownership",
         "rawType": "object",
         "type": "string"
        },
        {
         "name": "inq_last_6mths",
         "rawType": "float64",
         "type": "float"
        },
        {
         "name": "int_rate",
         "rawType": "float64",
         "type": "float"
        },
        {
         "name": "mo_sin_old_rev_tl_op",
         "rawType": "float64",
         "type": "float"
        },
        {
         "name": "mo_sin_rcnt_rev_tl_op",
         "rawType": "float64",
         "type": "float"
        },
        {
         "name": "mo_sin_rcnt_tl",
         "rawType": "float64",
         "type": "float"
        },
        {
         "name": "mort_acc",
         "rawType": "float64",
         "type": "float"
        },
        {
         "name": "mths_since_recent_bc",
         "rawType": "float64",
         "type": "float"
        },
        {
         "name": "num_actv_bc_tl",
         "rawType": "float64",
         "type": "float"
        },
        {
         "name": "num_bc_tl",
         "rawType": "float64",
         "type": "float"
        },
        {
         "name": "num_il_tl",
         "rawType": "float64",
         "type": "float"
        },
        {
         "name": "num_rev_accts",
         "rawType": "float64",
         "type": "float"
        },
        {
         "name": "open_acc",
         "rawType": "float64",
         "type": "float"
        },
        {
         "name": "pub_rec",
         "rawType": "float64",
         "type": "float"
        },
        {
         "name": "pub_rec_bankruptcies",
         "rawType": "float64",
         "type": "float"
        },
        {
         "name": "purpose",
         "rawType": "object",
         "type": "string"
        },
        {
         "name": "revol_bal",
         "rawType": "float64",
         "type": "float"
        },
        {
         "name": "revol_util",
         "rawType": "float64",
         "type": "float"
        },
        {
         "name": "sub_grade",
         "rawType": "object",
         "type": "string"
        },
        {
         "name": "target",
         "rawType": "int64",
         "type": "integer"
        },
        {
         "name": "tax_liens",
         "rawType": "float64",
         "type": "float"
        },
        {
         "name": "zip_code",
         "rawType": "int64",
         "type": "integer"
        },
        {
         "name": "Pct_afro_american",
         "rawType": "float64",
         "type": "float"
        },
        {
         "name": "Predictions",
         "rawType": "int64",
         "type": "integer"
        },
        {
         "name": "Predicted probabilities",
         "rawType": "float64",
         "type": "float"
        }
       ],
       "ref": "37c4add2-3aca-487d-9c95-ffbb7c085da6",
       "rows": [
        [
         "0",
         "2013",
         "0",
         "39600.0",
         "1379.0",
         "21564.0",
         "16.1",
         "0.0",
         "2.49",
         "2 years",
         "other",
         "759.0",
         "4800.0",
         "B",
         "MORTGAGE",
         "2.0",
         "10.99",
         "220.0",
         "25.0",
         "25.0",
         "0.0",
         "25.0",
         "2.0",
         "4.0",
         "1.0",
         "7.0",
         "3.0",
         "0.0",
         "0.0",
         "home_improvement",
         "4136.0",
         "16.1",
         "B2",
         "0",
         "0.0",
         "782",
         "7.388591761586696",
         "0",
         "0.0530510951194315"
        ],
        [
         "1",
         "2013",
         "0",
         "55000.0",
         "9570.0",
         "16473.0",
         "53.9",
         "0.0",
         "22.87",
         "10+ years",
         "other",
         "734.0",
         "27050.0",
         "B",
         "OWN",
         "0.0",
         "10.99",
         "326.0",
         "16.0",
         "6.0",
         "4.0",
         "16.0",
         "2.0",
         "8.0",
         "8.0",
         "15.0",
         "14.0",
         "0.0",
         "0.0",
         "debt_consolidation",
         "36638.0",
         "61.2",
         "B2",
         "0",
         "0.0",
         "481",
         "9.74545556728532",
         "0",
         "0.0845067981313664"
        ],
        [
         "2",
         "2013",
         "0",
         "325000.0",
         "53306.0",
         "13901.0",
         "67.1",
         "0.0",
         "18.55",
         "5 years",
         "sales manager",
         "749.0",
         "28000.0",
         "A",
         "MORTGAGE",
         "1.0",
         "7.62",
         "229.0",
         "5.0",
         "2.0",
         "5.0",
         "5.0",
         "4.0",
         "8.0",
         "11.0",
         "15.0",
         "15.0",
         "0.0",
         "0.0",
         "debt_consolidation",
         "29581.0",
         "54.6",
         "A3",
         "0",
         "0.0",
         "945",
         "7.542862052159502",
         "0",
         "0.0372055531591154"
        ],
        [
         "3",
         "2013",
         "0",
         "130000.0",
         "36362.0",
         "3567.0",
         "93.0",
         "0.0",
         "13.03",
         "10+ years",
         "other",
         "719.0",
         "12000.0",
         "B",
         "MORTGAGE",
         "1.0",
         "11.99",
         "193.0",
         "4.0",
         "4.0",
         "3.0",
         "85.0",
         "3.0",
         "4.0",
         "8.0",
         "8.0",
         "9.0",
         "0.0",
         "0.0",
         "debt_consolidation",
         "10805.0",
         "67.0",
         "B3",
         "0",
         "0.0",
         "809",
         "6.598131839160629",
         "0",
         "0.0613713280025745"
        ],
        [
         "4",
         "2013",
         "1",
         "73000.0",
         "24161.0",
         "4853.0",
         "74.7",
         "1.0",
         "23.13",
         "6 years",
         "other",
         "669.0",
         "27600.0",
         "D",
         "MORTGAGE",
         "1.0",
         "19.97",
         "294.0",
         "4.0",
         "4.0",
         "4.0",
         "4.0",
         "5.0",
         "11.0",
         "4.0",
         "16.0",
         "10.0",
         "0.0",
         "0.0",
         "debt_consolidation",
         "27003.0",
         "82.8",
         "D5",
         "1",
         "0.0",
         "802",
         "7.058900295806508",
         "1",
         "0.3458961609112402"
        ]
       ],
       "shape": {
        "columns": 38,
        "rows": 5
       }
      },
      "text/html": [
       "<div>\n",
       "<style scoped>\n",
       "    .dataframe tbody tr th:only-of-type {\n",
       "        vertical-align: middle;\n",
       "    }\n",
       "\n",
       "    .dataframe tbody tr th {\n",
       "        vertical-align: top;\n",
       "    }\n",
       "\n",
       "    .dataframe thead th {\n",
       "        text-align: right;\n",
       "    }\n",
       "</style>\n",
       "<table border=\"1\" class=\"dataframe\">\n",
       "  <thead>\n",
       "    <tr style=\"text-align: right;\">\n",
       "      <th></th>\n",
       "      <th>issue_d</th>\n",
       "      <th>loan duration</th>\n",
       "      <th>annual_inc</th>\n",
       "      <th>avg_cur_bal</th>\n",
       "      <th>bc_open_to_buy</th>\n",
       "      <th>bc_util</th>\n",
       "      <th>delinq_2yrs</th>\n",
       "      <th>dti</th>\n",
       "      <th>emp_length</th>\n",
       "      <th>emp_title</th>\n",
       "      <th>...</th>\n",
       "      <th>purpose</th>\n",
       "      <th>revol_bal</th>\n",
       "      <th>revol_util</th>\n",
       "      <th>sub_grade</th>\n",
       "      <th>target</th>\n",
       "      <th>tax_liens</th>\n",
       "      <th>zip_code</th>\n",
       "      <th>Pct_afro_american</th>\n",
       "      <th>Predictions</th>\n",
       "      <th>Predicted probabilities</th>\n",
       "    </tr>\n",
       "  </thead>\n",
       "  <tbody>\n",
       "    <tr>\n",
       "      <th>0</th>\n",
       "      <td>2013</td>\n",
       "      <td>0</td>\n",
       "      <td>39600.0</td>\n",
       "      <td>1379.0</td>\n",
       "      <td>21564.0</td>\n",
       "      <td>16.1</td>\n",
       "      <td>0.0</td>\n",
       "      <td>2.49</td>\n",
       "      <td>2 years</td>\n",
       "      <td>other</td>\n",
       "      <td>...</td>\n",
       "      <td>home_improvement</td>\n",
       "      <td>4136.0</td>\n",
       "      <td>16.1</td>\n",
       "      <td>B2</td>\n",
       "      <td>0</td>\n",
       "      <td>0.0</td>\n",
       "      <td>782</td>\n",
       "      <td>7.388592</td>\n",
       "      <td>0</td>\n",
       "      <td>0.053051</td>\n",
       "    </tr>\n",
       "    <tr>\n",
       "      <th>1</th>\n",
       "      <td>2013</td>\n",
       "      <td>0</td>\n",
       "      <td>55000.0</td>\n",
       "      <td>9570.0</td>\n",
       "      <td>16473.0</td>\n",
       "      <td>53.9</td>\n",
       "      <td>0.0</td>\n",
       "      <td>22.87</td>\n",
       "      <td>10+ years</td>\n",
       "      <td>other</td>\n",
       "      <td>...</td>\n",
       "      <td>debt_consolidation</td>\n",
       "      <td>36638.0</td>\n",
       "      <td>61.2</td>\n",
       "      <td>B2</td>\n",
       "      <td>0</td>\n",
       "      <td>0.0</td>\n",
       "      <td>481</td>\n",
       "      <td>9.745456</td>\n",
       "      <td>0</td>\n",
       "      <td>0.084507</td>\n",
       "    </tr>\n",
       "    <tr>\n",
       "      <th>2</th>\n",
       "      <td>2013</td>\n",
       "      <td>0</td>\n",
       "      <td>325000.0</td>\n",
       "      <td>53306.0</td>\n",
       "      <td>13901.0</td>\n",
       "      <td>67.1</td>\n",
       "      <td>0.0</td>\n",
       "      <td>18.55</td>\n",
       "      <td>5 years</td>\n",
       "      <td>sales manager</td>\n",
       "      <td>...</td>\n",
       "      <td>debt_consolidation</td>\n",
       "      <td>29581.0</td>\n",
       "      <td>54.6</td>\n",
       "      <td>A3</td>\n",
       "      <td>0</td>\n",
       "      <td>0.0</td>\n",
       "      <td>945</td>\n",
       "      <td>7.542862</td>\n",
       "      <td>0</td>\n",
       "      <td>0.037206</td>\n",
       "    </tr>\n",
       "    <tr>\n",
       "      <th>3</th>\n",
       "      <td>2013</td>\n",
       "      <td>0</td>\n",
       "      <td>130000.0</td>\n",
       "      <td>36362.0</td>\n",
       "      <td>3567.0</td>\n",
       "      <td>93.0</td>\n",
       "      <td>0.0</td>\n",
       "      <td>13.03</td>\n",
       "      <td>10+ years</td>\n",
       "      <td>other</td>\n",
       "      <td>...</td>\n",
       "      <td>debt_consolidation</td>\n",
       "      <td>10805.0</td>\n",
       "      <td>67.0</td>\n",
       "      <td>B3</td>\n",
       "      <td>0</td>\n",
       "      <td>0.0</td>\n",
       "      <td>809</td>\n",
       "      <td>6.598132</td>\n",
       "      <td>0</td>\n",
       "      <td>0.061371</td>\n",
       "    </tr>\n",
       "    <tr>\n",
       "      <th>4</th>\n",
       "      <td>2013</td>\n",
       "      <td>1</td>\n",
       "      <td>73000.0</td>\n",
       "      <td>24161.0</td>\n",
       "      <td>4853.0</td>\n",
       "      <td>74.7</td>\n",
       "      <td>1.0</td>\n",
       "      <td>23.13</td>\n",
       "      <td>6 years</td>\n",
       "      <td>other</td>\n",
       "      <td>...</td>\n",
       "      <td>debt_consolidation</td>\n",
       "      <td>27003.0</td>\n",
       "      <td>82.8</td>\n",
       "      <td>D5</td>\n",
       "      <td>1</td>\n",
       "      <td>0.0</td>\n",
       "      <td>802</td>\n",
       "      <td>7.058900</td>\n",
       "      <td>1</td>\n",
       "      <td>0.345896</td>\n",
       "    </tr>\n",
       "  </tbody>\n",
       "</table>\n",
       "<p>5 rows × 38 columns</p>\n",
       "</div>"
      ],
      "text/plain": [
       "   issue_d  loan duration  annual_inc  avg_cur_bal  bc_open_to_buy  bc_util  \\\n",
       "0     2013              0     39600.0       1379.0         21564.0     16.1   \n",
       "1     2013              0     55000.0       9570.0         16473.0     53.9   \n",
       "2     2013              0    325000.0      53306.0         13901.0     67.1   \n",
       "3     2013              0    130000.0      36362.0          3567.0     93.0   \n",
       "4     2013              1     73000.0      24161.0          4853.0     74.7   \n",
       "\n",
       "   delinq_2yrs    dti emp_length      emp_title  ...             purpose  \\\n",
       "0          0.0   2.49    2 years          other  ...    home_improvement   \n",
       "1          0.0  22.87  10+ years          other  ...  debt_consolidation   \n",
       "2          0.0  18.55    5 years  sales manager  ...  debt_consolidation   \n",
       "3          0.0  13.03  10+ years          other  ...  debt_consolidation   \n",
       "4          1.0  23.13    6 years          other  ...  debt_consolidation   \n",
       "\n",
       "   revol_bal revol_util sub_grade  target  tax_liens  zip_code  \\\n",
       "0     4136.0       16.1        B2       0        0.0       782   \n",
       "1    36638.0       61.2        B2       0        0.0       481   \n",
       "2    29581.0       54.6        A3       0        0.0       945   \n",
       "3    10805.0       67.0        B3       0        0.0       809   \n",
       "4    27003.0       82.8        D5       1        0.0       802   \n",
       "\n",
       "   Pct_afro_american  Predictions  Predicted probabilities  \n",
       "0           7.388592            0                 0.053051  \n",
       "1           9.745456            0                 0.084507  \n",
       "2           7.542862            0                 0.037206  \n",
       "3           6.598132            0                 0.061371  \n",
       "4           7.058900            1                 0.345896  \n",
       "\n",
       "[5 rows x 38 columns]"
      ]
     },
     "execution_count": 3,
     "metadata": {},
     "output_type": "execute_result"
    }
   ],
   "source": [
    "df.head()"
   ]
  },
  {
   "cell_type": "markdown",
   "metadata": {},
   "source": [
    "Pour les subgrade, quel est l'ordre ? "
   ]
  },
  {
   "cell_type": "code",
   "execution_count": 4,
   "metadata": {},
   "outputs": [
    {
     "data": {
      "text/plain": [
       "<Axes: xlabel='sub_grade'>"
      ]
     },
     "execution_count": 4,
     "metadata": {},
     "output_type": "execute_result"
    },
    {
     "data": {
      "image/png": "[encoded data removed]",
      "text/plain": [
       "<Figure size 640x480 with 1 Axes>"
      ]
     },
     "metadata": {},
     "output_type": "display_data"
    }
   ],
   "source": [
    "df[[\"sub_grade\", \"target\"]].groupby(\"sub_grade\").mean()[:10].plot()"
   ]
  },
  {
   "cell_type": "markdown",
   "metadata": {},
   "source": [
    "Le jeu de données est relativement désequilibré mais les probabilités prédites"
   ]
  },
  {
   "cell_type": "code",
   "execution_count": 5,
   "metadata": {},
   "outputs": [
    {
     "data": {
      "application/vnd.microsoft.datawrangler.viewer.v0+json": {
       "columns": [
        {
         "name": "target",
         "rawType": "int64",
         "type": "integer"
        },
        {
         "name": "count",
         "rawType": "int64",
         "type": "integer"
        }
       ],
       "ref": "bc419fdd-e9bf-4d6c-abbd-eff90b67c86c",
       "rows": [
        [
         "0",
         "857588"
        ],
        [
         "1",
         "228648"
        ]
       ],
       "shape": {
        "columns": 1,
        "rows": 2
       }
      },
      "text/plain": [
       "target\n",
       "0    857588\n",
       "1    228648\n",
       "Name: count, dtype: int64"
      ]
     },
     "execution_count": 5,
     "metadata": {},
     "output_type": "execute_result"
    }
   ],
   "source": [
    "df[\"target\"].value_counts()"
   ]
  },
  {
   "cell_type": "code",
   "execution_count": 6,
   "metadata": {},
   "outputs": [
    {
     "data": {
      "text/plain": [
       "<Axes: ylabel='Frequency'>"
      ]
     },
     "execution_count": 6,
     "metadata": {},
     "output_type": "execute_result"
    },
    {
     "data": {
      "image/png": "[encoded data removed]",
      "text/plain": [
       "<Figure size 640x480 with 1 Axes>"
      ]
     },
     "metadata": {},
     "output_type": "display_data"
    }
   ],
   "source": [
    "df[\"Predicted probabilities\"].plot(kind=\"hist\")"
   ]
  },
  {
   "cell_type": "code",
   "execution_count": 7,
   "metadata": {},
   "outputs": [
    {
     "data": {
      "image/png": "[encoded data removed]",
      "text/plain": [
       "<Figure size 640x480 with 2 Axes>"
      ]
     },
     "metadata": {},
     "output_type": "display_data"
    }
   ],
   "source": [
    "from sklearn.metrics import confusion_matrix, ConfusionMatrixDisplay\n",
    "\n",
    "cm = confusion_matrix(df[\"target\"], df[\"Predictions\"])\n",
    "disp = ConfusionMatrixDisplay(cm)\n",
    "disp.plot();"
   ]
  },
  {
   "cell_type": "markdown",
   "metadata": {},
   "source": [
    "# 01. First Surrogate : Linear Regression\n",
    "\n",
    "\n",
    "On commence par une régression simple, sans encoding particulier. "
   ]
  },
  {
   "cell_type": "code",
   "execution_count": 8,
   "metadata": {},
   "outputs": [],
   "source": [
    "from sklearn.linear_model import LinearRegression\n",
    "from sklearn.model_selection import RepeatedKFold, cross_val_score\n",
    "from sklearn.pipeline import make_pipeline\n",
    "from sklearn.preprocessing import OneHotEncoder, StandardScaler\n",
    "from skrub import TableVectorizer\n",
    "from joblib import Memory\n",
    "\n",
    "# to cache the transformed variable\n",
    "memory = Memory(location=\".cache_sklearn\", verbose=0)\n",
    "\n",
    "\n",
    "X = df.drop(columns=[\"Predicted probabilities\", \"Predictions\", \"target\"])\n",
    "y = df[\"Predicted probabilities\"]\n",
    "\n",
    "\n",
    "model = make_pipeline(\n",
    "    TableVectorizer(numeric=StandardScaler(), n_jobs=1),\n",
    "    LinearRegression(),\n",
    "    memory=memory\n",
    ")\n",
    "\n",
    "cv = RepeatedKFold(n_splits=2, n_repeats=1, random_state=42)\n",
    "\n",
    "cv_model = cross_validate(model, X, y, cv=cv, return_estimator=True, n_jobs=4)\n"
   ]
  },
  {
   "cell_type": "code",
   "execution_count": 9,
   "metadata": {},
   "outputs": [],
   "source": [
    "feature_names = cv_model[\"estimator\"][1][0].get_feature_names_out()\n",
    "\n",
    "coefs = pd.DataFrame(\n",
    "    [\n",
    "        cv_model[\"estimator\"][i][-1].coef_ for i in range(len(cv_model[\"estimator\"]))\n",
    "    ],\n",
    "    columns=feature_names,\n",
    ")"
   ]
  },
  {
   "cell_type": "code",
   "execution_count": 10,
   "metadata": {},
   "outputs": [
    {
     "data": {
      "image/png": "[encoded data removed]",
      "text/plain": [
       "<Figure size 1000x600 with 1 Axes>"
      ]
     },
     "metadata": {},
     "output_type": "display_data"
    }
   ],
   "source": [
    "coefs.T.plot(legend=False, figsize=(10, 6))\n",
    "plt.title(\"Coefficients du surrogate model par fold\")\n",
    "plt.xlabel(\"Features\")\n",
    "plt.ylabel(\"Coefficient value\")\n",
    "plt.tight_layout()\n",
    "plt.show();"
   ]
  },
  {
   "cell_type": "code",
   "execution_count": 11,
   "metadata": {},
   "outputs": [
    {
     "data": {
      "image/png": "[encoded data removed]",
      "text/plain": [
       "<Figure size 640x480 with 1 Axes>"
      ]
     },
     "metadata": {},
     "output_type": "display_data"
    }
   ],
   "source": [
    "results = pd.DataFrame(cv_model[\"test_score\"], columns=[\"r2\"])\n",
    "results.plot(kind=\"box\", legend=False)\n",
    "plt.title(\"R2 du surrogate model par fold\")\n",
    "plt.tight_layout()\n",
    "plt.show();"
   ]
  }
 ],
 "metadata": {
  "kernelspec": {
   "display_name": "base_ds",
   "language": "python",
   "name": "python3"
  },
  "language_info": {
   "codemirror_mode": {
    "name": "ipython",
    "version": 3
   },
   "file_extension": ".py",
   "mimetype": "text/x-python",
   "name": "python",
   "nbconvert_exporter": "python",
   "pygments_lexer": "ipython3",
   "version": "3.13.0"
  }
 },
 "nbformat": 4,
 "nbformat_minor": 2
}
