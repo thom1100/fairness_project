{
 "cells": [
  {
   "cell_type": "code",
   "execution_count": 1,
   "metadata": {},
   "outputs": [],
   "source": [
    "import pandas as pd\n",
    "import numpy as np\n",
    "import matplotlib.pyplot as plt\n",
    "\n",
    "from sklearn.model_selection import train_test_split\n",
    "from sklearn.tree import DecisionTreeRegressor\n",
    "from sklearn.metrics import r2_score, roc_auc_score\n",
    "from sklearn.tree import export_text, plot_tree\n",
    "from sklearn.model_selection import train_test_split, StratifiedKFold, cross_validate\n",
    "from sklearn.compose import ColumnTransformer\n",
    "from sklearn.pipeline import Pipeline\n",
    "from sklearn.preprocessing import OneHotEncoder, StandardScaler\n",
    "from sklearn.metrics import (\n",
    "    roc_auc_score,\n",
    "    average_precision_score,\n",
    "    brier_score_loss,\n",
    "    log_loss,\n",
    ")\n",
    "import xgboost as xgb"
   ]
  },
  {
   "cell_type": "markdown",
   "metadata": {},
   "source": [
    "# 00.EDA"
   ]
  },
  {
   "cell_type": "code",
   "execution_count": 2,
   "metadata": {},
   "outputs": [
    {
     "name": "stdout",
     "output_type": "stream",
     "text": [
      "<class 'pandas.core.frame.DataFrame'>\n",
      "RangeIndex: 1086236 entries, 0 to 1086235\n",
      "Data columns (total 38 columns):\n",
      " #   Column                   Non-Null Count    Dtype  \n",
      "---  ------                   --------------    -----  \n",
      " 0   issue_d                  1086236 non-null  int64  \n",
      " 1   loan duration            1086236 non-null  int64  \n",
      " 2   annual_inc               1086236 non-null  float64\n",
      " 3   avg_cur_bal              1086236 non-null  float64\n",
      " 4   bc_open_to_buy           1086236 non-null  float64\n",
      " 5   bc_util                  1086236 non-null  float64\n",
      " 6   delinq_2yrs              1086236 non-null  float64\n",
      " 7   dti                      1086236 non-null  float64\n",
      " 8   emp_length               1086236 non-null  object \n",
      " 9   emp_title                1086236 non-null  object \n",
      " 10  fico_range_high          1086236 non-null  float64\n",
      " 11  funded_amnt              1086236 non-null  float64\n",
      " 12  grade                    1086236 non-null  object \n",
      " 13  home_ownership           1086236 non-null  object \n",
      " 14  inq_last_6mths           1086236 non-null  float64\n",
      " 15  int_rate                 1086236 non-null  float64\n",
      " 16  mo_sin_old_rev_tl_op     1086236 non-null  float64\n",
      " 17  mo_sin_rcnt_rev_tl_op    1086236 non-null  float64\n",
      " 18  mo_sin_rcnt_tl           1086236 non-null  float64\n",
      " 19  mort_acc                 1086236 non-null  float64\n",
      " 20  mths_since_recent_bc     1086236 non-null  float64\n",
      " 21  num_actv_bc_tl           1086236 non-null  float64\n",
      " 22  num_bc_tl                1086236 non-null  float64\n",
      " 23  num_il_tl                1086236 non-null  float64\n",
      " 24  num_rev_accts            1086236 non-null  float64\n",
      " 25  open_acc                 1086236 non-null  float64\n",
      " 26  pub_rec                  1086236 non-null  float64\n",
      " 27  pub_rec_bankruptcies     1086236 non-null  float64\n",
      " 28  purpose                  1086236 non-null  object \n",
      " 29  revol_bal                1086236 non-null  float64\n",
      " 30  revol_util               1086236 non-null  float64\n",
      " 31  sub_grade                1086236 non-null  object \n",
      " 32  target                   1086236 non-null  int64  \n",
      " 33  tax_liens                1086236 non-null  float64\n",
      " 34  zip_code                 1086236 non-null  int64  \n",
      " 35  Pct_afro_american        1086236 non-null  float64\n",
      " 36  Predictions              1086236 non-null  int64  \n",
      " 37  Predicted probabilities  1086236 non-null  float64\n",
      "dtypes: float64(27), int64(5), object(6)\n",
      "memory usage: 314.9+ MB\n"
     ]
    }
   ],
   "source": [
    "PATH = \"./dataproject2025.csv\"\n",
    "df = pd.read_csv(PATH).drop(columns=[\"Unnamed: 0\"])\n",
    "df.info()"
   ]
  },
  {
   "cell_type": "markdown",
   "metadata": {},
   "source": [
    "Certaines variables sont ordinales, on les retraite dans une fonction définie dans utils.py."
   ]
  },
  {
   "cell_type": "code",
   "execution_count": 3,
   "metadata": {},
   "outputs": [
    {
     "data": {
      "application/vnd.microsoft.datawrangler.viewer.v0+json": {
       "columns": [
        {
         "name": "index",
         "rawType": "int64",
         "type": "integer"
        },
        {
         "name": "issue_d",
         "rawType": "int64",
         "type": "integer"
        },
        {
         "name": "loan duration",
         "rawType": "int64",
         "type": "integer"
        },
        {
         "name": "annual_inc",
         "rawType": "float64",
         "type": "float"
        },
        {
         "name": "avg_cur_bal",
         "rawType": "float64",
         "type": "float"
        },
        {
         "name": "bc_open_to_buy",
         "rawType": "float64",
         "type": "float"
        },
        {
         "name": "bc_util",
         "rawType": "float64",
         "type": "float"
        },
        {
         "name": "delinq_2yrs",
         "rawType": "float64",
         "type": "float"
        },
        {
         "name": "dti",
         "rawType": "float64",
         "type": "float"
        },
        {
         "name": "emp_length",
         "rawType": "object",
         "type": "string"
        },
        {
         "name": "emp_title",
         "rawType": "object",
         "type": "string"
        },
        {
         "name": "fico_range_high",
         "rawType": "float64",
         "type": "float"
        },
        {
         "name": "funded_amnt",
         "rawType": "float64",
         "type": "float"
        },
        {
         "name": "grade",
         "rawType": "object",
         "type": "string"
        },
        {
         "name": "home_ownership",
         "rawType": "object",
         "type": "string"
        },
        {
         "name": "inq_last_6mths",
         "rawType": "float64",
         "type": "float"
        },
        {
         "name": "int_rate",
         "rawType": "float64",
         "type": "float"
        },
        {
         "name": "mo_sin_old_rev_tl_op",
         "rawType": "float64",
         "type": "float"
        },
        {
         "name": "mo_sin_rcnt_rev_tl_op",
         "rawType": "float64",
         "type": "float"
        },
        {
         "name": "mo_sin_rcnt_tl",
         "rawType": "float64",
         "type": "float"
        },
        {
         "name": "mort_acc",
         "rawType": "float64",
         "type": "float"
        },
        {
         "name": "mths_since_recent_bc",
         "rawType": "float64",
         "type": "float"
        },
        {
         "name": "num_actv_bc_tl",
         "rawType": "float64",
         "type": "float"
        },
        {
         "name": "num_bc_tl",
         "rawType": "float64",
         "type": "float"
        },
        {
         "name": "num_il_tl",
         "rawType": "float64",
         "type": "float"
        },
        {
         "name": "num_rev_accts",
         "rawType": "float64",
         "type": "float"
        },
        {
         "name": "open_acc",
         "rawType": "float64",
         "type": "float"
        },
        {
         "name": "pub_rec",
         "rawType": "float64",
         "type": "float"
        },
        {
         "name": "pub_rec_bankruptcies",
         "rawType": "float64",
         "type": "float"
        },
        {
         "name": "purpose",
         "rawType": "object",
         "type": "string"
        },
        {
         "name": "revol_bal",
         "rawType": "float64",
         "type": "float"
        },
        {
         "name": "revol_util",
         "rawType": "float64",
         "type": "float"
        },
        {
         "name": "sub_grade",
         "rawType": "object",
         "type": "string"
        },
        {
         "name": "target",
         "rawType": "int64",
         "type": "integer"
        },
        {
         "name": "tax_liens",
         "rawType": "float64",
         "type": "float"
        },
        {
         "name": "zip_code",
         "rawType": "int64",
         "type": "integer"
        },
        {
         "name": "Pct_afro_american",
         "rawType": "float64",
         "type": "float"
        },
        {
         "name": "Predictions",
         "rawType": "int64",
         "type": "integer"
        },
        {
         "name": "Predicted probabilities",
         "rawType": "float64",
         "type": "float"
        }
       ],
       "ref": "549c38b6-549e-4915-b05f-675ebfc259fa",
       "rows": [
        [
         "0",
         "2013",
         "0",
         "39600.0",
         "1379.0",
         "21564.0",
         "16.1",
         "0.0",
         "2.49",
         "2 years",
         "other",
         "759.0",
         "4800.0",
         "B",
         "MORTGAGE",
         "2.0",
         "10.99",
         "220.0",
         "25.0",
         "25.0",
         "0.0",
         "25.0",
         "2.0",
         "4.0",
         "1.0",
         "7.0",
         "3.0",
         "0.0",
         "0.0",
         "home_improvement",
         "4136.0",
         "16.1",
         "B2",
         "0",
         "0.0",
         "782",
         "7.388591761586696",
         "0",
         "0.0530510951194315"
        ],
        [
         "1",
         "2013",
         "0",
         "55000.0",
         "9570.0",
         "16473.0",
         "53.9",
         "0.0",
         "22.87",
         "10+ years",
         "other",
         "734.0",
         "27050.0",
         "B",
         "OWN",
         "0.0",
         "10.99",
         "326.0",
         "16.0",
         "6.0",
         "4.0",
         "16.0",
         "2.0",
         "8.0",
         "8.0",
         "15.0",
         "14.0",
         "0.0",
         "0.0",
         "debt_consolidation",
         "36638.0",
         "61.2",
         "B2",
         "0",
         "0.0",
         "481",
         "9.74545556728532",
         "0",
         "0.0845067981313664"
        ],
        [
         "2",
         "2013",
         "0",
         "325000.0",
         "53306.0",
         "13901.0",
         "67.1",
         "0.0",
         "18.55",
         "5 years",
         "sales manager",
         "749.0",
         "28000.0",
         "A",
         "MORTGAGE",
         "1.0",
         "7.62",
         "229.0",
         "5.0",
         "2.0",
         "5.0",
         "5.0",
         "4.0",
         "8.0",
         "11.0",
         "15.0",
         "15.0",
         "0.0",
         "0.0",
         "debt_consolidation",
         "29581.0",
         "54.6",
         "A3",
         "0",
         "0.0",
         "945",
         "7.542862052159502",
         "0",
         "0.0372055531591154"
        ],
        [
         "3",
         "2013",
         "0",
         "130000.0",
         "36362.0",
         "3567.0",
         "93.0",
         "0.0",
         "13.03",
         "10+ years",
         "other",
         "719.0",
         "12000.0",
         "B",
         "MORTGAGE",
         "1.0",
         "11.99",
         "193.0",
         "4.0",
         "4.0",
         "3.0",
         "85.0",
         "3.0",
         "4.0",
         "8.0",
         "8.0",
         "9.0",
         "0.0",
         "0.0",
         "debt_consolidation",
         "10805.0",
         "67.0",
         "B3",
         "0",
         "0.0",
         "809",
         "6.598131839160629",
         "0",
         "0.0613713280025745"
        ],
        [
         "4",
         "2013",
         "1",
         "73000.0",
         "24161.0",
         "4853.0",
         "74.7",
         "1.0",
         "23.13",
         "6 years",
         "other",
         "669.0",
         "27600.0",
         "D",
         "MORTGAGE",
         "1.0",
         "19.97",
         "294.0",
         "4.0",
         "4.0",
         "4.0",
         "4.0",
         "5.0",
         "11.0",
         "4.0",
         "16.0",
         "10.0",
         "0.0",
         "0.0",
         "debt_consolidation",
         "27003.0",
         "82.8",
         "D5",
         "1",
         "0.0",
         "802",
         "7.058900295806508",
         "1",
         "0.3458961609112402"
        ]
       ],
       "shape": {
        "columns": 38,
        "rows": 5
       }
      },
      "text/html": [
       "<div>\n",
       "<style scoped>\n",
       "    .dataframe tbody tr th:only-of-type {\n",
       "        vertical-align: middle;\n",
       "    }\n",
       "\n",
       "    .dataframe tbody tr th {\n",
       "        vertical-align: top;\n",
       "    }\n",
       "\n",
       "    .dataframe thead th {\n",
       "        text-align: right;\n",
       "    }\n",
       "</style>\n",
       "<table border=\"1\" class=\"dataframe\">\n",
       "  <thead>\n",
       "    <tr style=\"text-align: right;\">\n",
       "      <th></th>\n",
       "      <th>issue_d</th>\n",
       "      <th>loan duration</th>\n",
       "      <th>annual_inc</th>\n",
       "      <th>avg_cur_bal</th>\n",
       "      <th>bc_open_to_buy</th>\n",
       "      <th>bc_util</th>\n",
       "      <th>delinq_2yrs</th>\n",
       "      <th>dti</th>\n",
       "      <th>emp_length</th>\n",
       "      <th>emp_title</th>\n",
       "      <th>...</th>\n",
       "      <th>purpose</th>\n",
       "      <th>revol_bal</th>\n",
       "      <th>revol_util</th>\n",
       "      <th>sub_grade</th>\n",
       "      <th>target</th>\n",
       "      <th>tax_liens</th>\n",
       "      <th>zip_code</th>\n",
       "      <th>Pct_afro_american</th>\n",
       "      <th>Predictions</th>\n",
       "      <th>Predicted probabilities</th>\n",
       "    </tr>\n",
       "  </thead>\n",
       "  <tbody>\n",
       "    <tr>\n",
       "      <th>0</th>\n",
       "      <td>2013</td>\n",
       "      <td>0</td>\n",
       "      <td>39600.0</td>\n",
       "      <td>1379.0</td>\n",
       "      <td>21564.0</td>\n",
       "      <td>16.1</td>\n",
       "      <td>0.0</td>\n",
       "      <td>2.49</td>\n",
       "      <td>2 years</td>\n",
       "      <td>other</td>\n",
       "      <td>...</td>\n",
       "      <td>home_improvement</td>\n",
       "      <td>4136.0</td>\n",
       "      <td>16.1</td>\n",
       "      <td>B2</td>\n",
       "      <td>0</td>\n",
       "      <td>0.0</td>\n",
       "      <td>782</td>\n",
       "      <td>7.388592</td>\n",
       "      <td>0</td>\n",
       "      <td>0.053051</td>\n",
       "    </tr>\n",
       "    <tr>\n",
       "      <th>1</th>\n",
       "      <td>2013</td>\n",
       "      <td>0</td>\n",
       "      <td>55000.0</td>\n",
       "      <td>9570.0</td>\n",
       "      <td>16473.0</td>\n",
       "      <td>53.9</td>\n",
       "      <td>0.0</td>\n",
       "      <td>22.87</td>\n",
       "      <td>10+ years</td>\n",
       "      <td>other</td>\n",
       "      <td>...</td>\n",
       "      <td>debt_consolidation</td>\n",
       "      <td>36638.0</td>\n",
       "      <td>61.2</td>\n",
       "      <td>B2</td>\n",
       "      <td>0</td>\n",
       "      <td>0.0</td>\n",
       "      <td>481</td>\n",
       "      <td>9.745456</td>\n",
       "      <td>0</td>\n",
       "      <td>0.084507</td>\n",
       "    </tr>\n",
       "    <tr>\n",
       "      <th>2</th>\n",
       "      <td>2013</td>\n",
       "      <td>0</td>\n",
       "      <td>325000.0</td>\n",
       "      <td>53306.0</td>\n",
       "      <td>13901.0</td>\n",
       "      <td>67.1</td>\n",
       "      <td>0.0</td>\n",
       "      <td>18.55</td>\n",
       "      <td>5 years</td>\n",
       "      <td>sales manager</td>\n",
       "      <td>...</td>\n",
       "      <td>debt_consolidation</td>\n",
       "      <td>29581.0</td>\n",
       "      <td>54.6</td>\n",
       "      <td>A3</td>\n",
       "      <td>0</td>\n",
       "      <td>0.0</td>\n",
       "      <td>945</td>\n",
       "      <td>7.542862</td>\n",
       "      <td>0</td>\n",
       "      <td>0.037206</td>\n",
       "    </tr>\n",
       "    <tr>\n",
       "      <th>3</th>\n",
       "      <td>2013</td>\n",
       "      <td>0</td>\n",
       "      <td>130000.0</td>\n",
       "      <td>36362.0</td>\n",
       "      <td>3567.0</td>\n",
       "      <td>93.0</td>\n",
       "      <td>0.0</td>\n",
       "      <td>13.03</td>\n",
       "      <td>10+ years</td>\n",
       "      <td>other</td>\n",
       "      <td>...</td>\n",
       "      <td>debt_consolidation</td>\n",
       "      <td>10805.0</td>\n",
       "      <td>67.0</td>\n",
       "      <td>B3</td>\n",
       "      <td>0</td>\n",
       "      <td>0.0</td>\n",
       "      <td>809</td>\n",
       "      <td>6.598132</td>\n",
       "      <td>0</td>\n",
       "      <td>0.061371</td>\n",
       "    </tr>\n",
       "    <tr>\n",
       "      <th>4</th>\n",
       "      <td>2013</td>\n",
       "      <td>1</td>\n",
       "      <td>73000.0</td>\n",
       "      <td>24161.0</td>\n",
       "      <td>4853.0</td>\n",
       "      <td>74.7</td>\n",
       "      <td>1.0</td>\n",
       "      <td>23.13</td>\n",
       "      <td>6 years</td>\n",
       "      <td>other</td>\n",
       "      <td>...</td>\n",
       "      <td>debt_consolidation</td>\n",
       "      <td>27003.0</td>\n",
       "      <td>82.8</td>\n",
       "      <td>D5</td>\n",
       "      <td>1</td>\n",
       "      <td>0.0</td>\n",
       "      <td>802</td>\n",
       "      <td>7.058900</td>\n",
       "      <td>1</td>\n",
       "      <td>0.345896</td>\n",
       "    </tr>\n",
       "  </tbody>\n",
       "</table>\n",
       "<p>5 rows × 38 columns</p>\n",
       "</div>"
      ],
      "text/plain": [
       "   issue_d  loan duration  annual_inc  avg_cur_bal  bc_open_to_buy  bc_util  \\\n",
       "0     2013              0     39600.0       1379.0         21564.0     16.1   \n",
       "1     2013              0     55000.0       9570.0         16473.0     53.9   \n",
       "2     2013              0    325000.0      53306.0         13901.0     67.1   \n",
       "3     2013              0    130000.0      36362.0          3567.0     93.0   \n",
       "4     2013              1     73000.0      24161.0          4853.0     74.7   \n",
       "\n",
       "   delinq_2yrs    dti emp_length      emp_title  ...             purpose  \\\n",
       "0          0.0   2.49    2 years          other  ...    home_improvement   \n",
       "1          0.0  22.87  10+ years          other  ...  debt_consolidation   \n",
       "2          0.0  18.55    5 years  sales manager  ...  debt_consolidation   \n",
       "3          0.0  13.03  10+ years          other  ...  debt_consolidation   \n",
       "4          1.0  23.13    6 years          other  ...  debt_consolidation   \n",
       "\n",
       "   revol_bal revol_util sub_grade  target  tax_liens  zip_code  \\\n",
       "0     4136.0       16.1        B2       0        0.0       782   \n",
       "1    36638.0       61.2        B2       0        0.0       481   \n",
       "2    29581.0       54.6        A3       0        0.0       945   \n",
       "3    10805.0       67.0        B3       0        0.0       809   \n",
       "4    27003.0       82.8        D5       1        0.0       802   \n",
       "\n",
       "   Pct_afro_american  Predictions  Predicted probabilities  \n",
       "0           7.388592            0                 0.053051  \n",
       "1           9.745456            0                 0.084507  \n",
       "2           7.542862            0                 0.037206  \n",
       "3           6.598132            0                 0.061371  \n",
       "4           7.058900            1                 0.345896  \n",
       "\n",
       "[5 rows x 38 columns]"
      ]
     },
     "execution_count": 3,
     "metadata": {},
     "output_type": "execute_result"
    }
   ],
   "source": [
    "df.head()"
   ]
  },
  {
   "cell_type": "markdown",
   "metadata": {},
   "source": [
    "Pour les subgrade, quel est l'ordre ? "
   ]
  },
  {
   "cell_type": "code",
   "execution_count": 4,
   "metadata": {},
   "outputs": [
    {
     "data": {
      "text/plain": [
       "<Axes: xlabel='sub_grade'>"
      ]
     },
     "execution_count": 4,
     "metadata": {},
     "output_type": "execute_result"
    },
    {
     "data": {
      "image/png": "[encoded data removed]",
      "text/plain": [
       "<Figure size 640x480 with 1 Axes>"
      ]
     },
     "metadata": {},
     "output_type": "display_data"
    }
   ],
   "source": [
    "df[[\"sub_grade\", \"target\"]].groupby(\"sub_grade\").mean()[:10].plot()"
   ]
  },
  {
   "cell_type": "markdown",
   "metadata": {},
   "source": [
    "Le jeu de données est relativement désequilibré mais les probabilités prédites"
   ]
  },
  {
   "cell_type": "code",
   "execution_count": 5,
   "metadata": {},
   "outputs": [
    {
     "data": {
      "application/vnd.microsoft.datawrangler.viewer.v0+json": {
       "columns": [
        {
         "name": "target",
         "rawType": "int64",
         "type": "integer"
        },
        {
         "name": "count",
         "rawType": "int64",
         "type": "integer"
        }
       ],
       "ref": "5b273450-7ba8-47d2-a74c-38251e14baad",
       "rows": [
        [
         "0",
         "857588"
        ],
        [
         "1",
         "228648"
        ]
       ],
       "shape": {
        "columns": 1,
        "rows": 2
       }
      },
      "text/plain": [
       "target\n",
       "0    857588\n",
       "1    228648\n",
       "Name: count, dtype: int64"
      ]
     },
     "execution_count": 5,
     "metadata": {},
     "output_type": "execute_result"
    }
   ],
   "source": [
    "df[\"target\"].value_counts()"
   ]
  },
  {
   "cell_type": "code",
   "execution_count": 6,
   "metadata": {},
   "outputs": [
    {
     "data": {
      "text/plain": [
       "<Axes: ylabel='Frequency'>"
      ]
     },
     "execution_count": 6,
     "metadata": {},
     "output_type": "execute_result"
    },
    {
     "data": {
      "image/png": "[encoded data removed]",
      "text/plain": [
       "<Figure size 640x480 with 1 Axes>"
      ]
     },
     "metadata": {},
     "output_type": "display_data"
    }
   ],
   "source": [
    "df[\"Predicted probabilities\"].plot(kind=\"hist\")"
   ]
  },
  {
   "cell_type": "code",
   "execution_count": 7,
   "metadata": {},
   "outputs": [
    {
     "data": {
      "image/png": "[encoded data removed]",
      "text/plain": [
       "<Figure size 640x480 with 2 Axes>"
      ]
     },
     "metadata": {},
     "output_type": "display_data"
    }
   ],
   "source": [
    "from sklearn.metrics import confusion_matrix, ConfusionMatrixDisplay\n",
    "\n",
    "cm = confusion_matrix(df[\"target\"], df[\"Predictions\"])\n",
    "disp = ConfusionMatrixDisplay(cm)\n",
    "disp.plot();"
   ]
  },
  {
   "cell_type": "markdown",
   "metadata": {},
   "source": [
    "# 01. First Surrogate : Linear Regression\n",
    "\n",
    "\n",
    "On commence par une régression simple, sans encoding particulier. "
   ]
  },
  {
   "cell_type": "code",
   "execution_count": null,
   "metadata": {},
   "outputs": [],
   "source": [
    "from sklearn.linear_model import LinearRegression\n",
    "from sklearn.model_selection import RepeatedKFold, cross_val_score\n",
    "from sklearn.pipeline import make_pipeline\n",
    "from sklearn.preprocessing import OneHotEncoder, StandardScaler\n",
    "from skrub import TableVectorizer\n",
    "\n",
    "X = df.drop(columns=[\"Predicted probabilities\", \"Predictions\", \"target\"])\n",
    "y = df[\"Predicted probabilities\"]\n",
    "\n",
    "pipe = make_pipeline(\n",
    "    TableVectorizer(numeric=StandardScaler(), n_jobs=4),\n",
    "    LinearRegression()\n",
    ")\n",
    "\n",
    "cv = RepeatedKFold(n_splits=5, n_repeats=10, random_state=42)\n",
    "\n",
    "scores = cross_val_score(pipe, X, y, cv=cv, scoring=\"r2\", n_jobs=4)\n",
    "\n",
    "print(\"R² moyen :\", scores.mean())\n"
   ]
  },
  {
   "cell_type": "code",
   "execution_count": null,
   "metadata": {},
   "outputs": [],
   "source": [
    "from sklearn.linear_model import LinearRegression\n",
    "from sklearn.model_selection import RepeatedKFold, cross_validate\n",
    "from sklearn.pipeline import make_pipeline\n",
    "from sklearn.preprocessing import OneHotEncoder, StandardScaler\n",
    "from skrub import TableVectorizer\n",
    "\n",
    "X = df.drop(columns=[\"Predicted probabilities\", \"Predictions\", \"target\"])\n",
    "y = df[\"Predicted probabilities\"]\n",
    "\n",
    "pipe = make_pipeline(\n",
    "    TableVectorizer(numeric=StandardScaler(), n_jobs=4),\n",
    "    LinearRegression()\n",
    ")\n",
    "\n",
    "cv = RepeatedKFold(n_splits=5, n_repeats=10, random_state=42)\n",
    "\n",
    "scores = cross_val_score(pipe, X, y, cv=cv, scoring=\"r2\", n_jobs=4)\n",
    "\n",
    "print(\"R² moyen :\", scores.mean())\n"
   ]
  },
  {
   "cell_type": "code",
   "execution_count": null,
   "metadata": {},
   "outputs": [
    {
     "name": "stdout",
     "output_type": "stream",
     "text": [
      "Nb total: 734421  / Nb sans NaN: 734420\n",
      "Tree R2 (fidelity to DP): 0.7430558812604986\n",
      "Linear R2 (fidelity to DP): 0.9661490300821293\n"
     ]
    }
   ],
   "source": [
    "X = df.drop(columns=[\"Predicted probabilities\", \"Predictions\", \"target\"])\n",
    "y = df[\"Predicted probabilities\"]\n",
    "\n",
    "X = pd.get_dummies(X, drop_first=True)\n",
    "\n",
    "X_train, X_test, y_train, y_test = train_test_split(\n",
    "    X, y, stratify=None, test_size=0.2, random_state=42\n",
    ")\n",
    "\n",
    "# Surrogate 1: shallow tree\n",
    "tree = DecisionTreeRegressor(max_depth=3, random_state=42)\n",
    "tree.fit(X_train, y_train)\n",
    "pred_tree = tree.predict(X_test)\n",
    "print(\"Tree R2 (fidelity to DP):\", r2_score(y_test, pred_tree))\n",
    "\n",
    "# Surrogate 2: linear regression\n",
    "from sklearn.linear_model import LinearRegression\n",
    "\n",
    "lin = LinearRegression()\n",
    "lin.fit(X_train, y_train)\n",
    "pred_lin = lin.predict(X_test)\n",
    "print(\"Linear R2 (fidelity to DP):\", r2_score(y_test, pred_lin))"
   ]
  },
  {
   "cell_type": "markdown",
   "metadata": {},
   "source": [
    "The R2 indicates that our surrogates approximate pretty well the default blackbox model."
   ]
  },
  {
   "cell_type": "markdown",
   "metadata": {},
   "source": [
    "Let's try to do an interpretation analysis thanks to our surrogates for first conclusions:"
   ]
  },
  {
   "cell_type": "code",
   "execution_count": 14,
   "metadata": {},
   "outputs": [
    {
     "name": "stdout",
     "output_type": "stream",
     "text": [
      "|--- int_rate <= 14.39\n",
      "|   |--- int_rate <= 11.18\n",
      "|   |   |--- grade_B <= 0.50\n",
      "|   |   |   |--- value: [0.06]\n",
      "|   |   |--- grade_B >  0.50\n",
      "|   |   |   |--- value: [0.11]\n",
      "|   |--- int_rate >  11.18\n",
      "|   |   |--- grade_B <= 0.50\n",
      "|   |   |   |--- value: [0.20]\n",
      "|   |   |--- grade_B >  0.50\n",
      "|   |   |   |--- value: [0.14]\n",
      "|--- int_rate >  14.39\n",
      "|   |--- loan duration <= 0.50\n",
      "|   |   |--- int_rate <= 17.82\n",
      "|   |   |   |--- value: [0.22]\n",
      "|   |   |--- int_rate >  17.82\n",
      "|   |   |   |--- value: [0.29]\n",
      "|   |--- loan duration >  0.50\n",
      "|   |   |--- int_rate <= 17.82\n",
      "|   |   |   |--- value: [0.30]\n",
      "|   |   |--- int_rate >  17.82\n",
      "|   |   |   |--- value: [0.41]\n",
      "\n"
     ]
    },
    {
     "data": {
      "image/png": "[encoded data removed]",
      "text/plain": [
       "<Figure size 1000x600 with 1 Axes>"
      ]
     },
     "metadata": {},
     "output_type": "display_data"
    }
   ],
   "source": [
    "rules = export_text(tree, feature_names=list(X.columns))\n",
    "print(rules)\n",
    "\n",
    "plt.figure(figsize=(10, 6))\n",
    "plot_tree(tree, feature_names=X.columns, filled=True, max_depth=3, fontsize=8)\n",
    "plt.show()"
   ]
  },
  {
   "cell_type": "code",
   "execution_count": 15,
   "metadata": {},
   "outputs": [
    {
     "name": "stdout",
     "output_type": "stream",
     "text": [
      "grade_G                   0.251353\n",
      "grade_F                   0.215596\n",
      "grade_E                   0.169771\n",
      "grade_D                   0.118126\n",
      "purpose_wedding          -0.091559\n",
      "sub_grade_G5              0.086094\n",
      "loan duration             0.083821\n",
      "sub_grade_G4              0.083696\n",
      "emp_title_associate      -0.079296\n",
      "emp_title_truck driver    0.071447\n",
      "dtype: float64\n"
     ]
    }
   ],
   "source": [
    "coefs = pd.Series(lin.coef_, index=X.columns)\n",
    "coefs_sorted = coefs.sort_values(key=np.abs, ascending=False)\n",
    "print(coefs_sorted.head(10))"
   ]
  },
  {
   "cell_type": "markdown",
   "metadata": {},
   "source": [
    "# 02.Our Blackbox Model"
   ]
  },
  {
   "cell_type": "code",
   "execution_count": 19,
   "metadata": {},
   "outputs": [
    {
     "name": "stdout",
     "output_type": "stream",
     "text": [
      "[CV] AUC  : 0.7213 ± 0.0015\n",
      "[CV] PR-AU: 0.3978 ± 0.0016\n",
      "[TEST] AUC:    0.7223\n",
      "[TEST] PR-AUC: 0.3988\n",
      "[TEST] Brier:  0.1448\n",
      "[TEST] LogLoss:0.4525\n"
     ]
    }
   ],
   "source": [
    "drop_cols = [\n",
    "    c for c in [\"Predicted probabilities\", \"Predictions\"] if c in df_clean.columns\n",
    "]\n",
    "y = df_clean[\"target\"].astype(int)\n",
    "X = df_clean.drop(columns=[\"target\"] + drop_cols)\n",
    "\n",
    "X_train, X_test, y_train, y_test = train_test_split(\n",
    "    X, y, stratify=y, test_size=0.2, random_state=42\n",
    ")\n",
    "\n",
    "num_cols = X_train.select_dtypes(include=[\"number\"]).columns.tolist()\n",
    "cat_cols = X_train.select_dtypes(exclude=[\"number\"]).columns.tolist()\n",
    "\n",
    "num_pipe = Pipeline(\n",
    "    [\n",
    "        (\"imputer\", SimpleImputer(strategy=\"median\")),\n",
    "        (\"scaler\", StandardScaler(with_mean=False)),\n",
    "    ]\n",
    ")\n",
    "\n",
    "cat_pipe = Pipeline(\n",
    "    [\n",
    "        (\"imputer\", SimpleImputer(strategy=\"most_frequent\")),\n",
    "        (\"ohe\", OneHotEncoder(handle_unknown=\"ignore\")),\n",
    "    ]\n",
    ")\n",
    "\n",
    "preproc = ColumnTransformer(\n",
    "    [\n",
    "        (\"num\", num_pipe, num_cols),\n",
    "        (\"cat\", cat_pipe, cat_cols),\n",
    "    ]\n",
    ")\n",
    "\n",
    "xgb_model = xgb.XGBClassifier(\n",
    "    n_estimators=600,\n",
    "    learning_rate=0.05,\n",
    "    max_depth=6,\n",
    "    subsample=0.85,\n",
    "    colsample_bytree=0.85,\n",
    "    reg_lambda=1.0,\n",
    "    reg_alpha=0.0,\n",
    "    min_child_weight=1,\n",
    "    objective=\"binary:logistic\",\n",
    "    tree_method=\"hist\",\n",
    "    eval_metric=\"logloss\",\n",
    "    random_state=42,\n",
    ")\n",
    "\n",
    "pipe = Pipeline(\n",
    "    [\n",
    "        (\"preproc\", preproc),\n",
    "        (\"model\", xgb_model),\n",
    "    ]\n",
    ")\n",
    "\n",
    "cv = StratifiedKFold(n_splits=5, shuffle=True, random_state=42)\n",
    "cv_scores = cross_validate(\n",
    "    pipe,\n",
    "    X,\n",
    "    y,\n",
    "    cv=cv,\n",
    "    scoring={\"AUC\": \"roc_auc\", \"AP\": \"average_precision\"},\n",
    "    n_jobs=-1,\n",
    "    return_estimator=False,\n",
    ")\n",
    "print(\n",
    "    f\"[CV] AUC  : {cv_scores['test_AUC'].mean():.4f} ± {cv_scores['test_AUC'].std():.4f}\"\n",
    ")\n",
    "print(\n",
    "    f\"[CV] PR-AU: {cv_scores['test_AP'].mean():.4f} ± {cv_scores['test_AP'].std():.4f}\"\n",
    ")\n",
    "\n",
    "pipe.fit(X_train, y_train)\n",
    "proba_test = pipe.predict_proba(X_test)[:, 1]\n",
    "\n",
    "print(f\"[TEST] AUC:    {roc_auc_score(y_test, proba_test):.4f}\")\n",
    "print(f\"[TEST] PR-AUC: {average_precision_score(y_test, proba_test):.4f}\")\n",
    "print(f\"[TEST] Brier:  {brier_score_loss(y_test, proba_test):.4f}\")\n",
    "print(f\"[TEST] LogLoss:{log_loss(y_test, proba_test):.4f}\")"
   ]
  }
 ],
 "metadata": {
  "kernelspec": {
   "display_name": "base_ds",
   "language": "python",
   "name": "python3"
  },
  "language_info": {
   "codemirror_mode": {
    "name": "ipython",
    "version": 3
   },
   "file_extension": ".py",
   "mimetype": "text/x-python",
   "name": "python",
   "nbconvert_exporter": "python",
   "pygments_lexer": "ipython3",
   "version": "3.13.0"
  }
 },
 "nbformat": 4,
 "nbformat_minor": 2
}
